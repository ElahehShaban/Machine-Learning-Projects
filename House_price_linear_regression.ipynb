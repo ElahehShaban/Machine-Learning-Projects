{
 "cells": [
  {
   "cell_type": "markdown",
   "metadata": {},
   "source": [
    "# Task: Predict the price of a house."
   ]
  },
  {
   "cell_type": "code",
   "execution_count": 1,
   "metadata": {},
   "outputs": [
    {
     "name": "stdout",
     "output_type": "stream",
     "text": [
      "no display found. Using non-interactive Agg backend\n"
     ]
    }
   ],
   "source": [
    "# Imports\n",
    "\n",
    "import pandas as pd\n",
    "import numpy as np\n",
    "import matplotlib.pyplot as plt\n",
    "import seaborn as sns\n",
    "%matplotlib inline\n",
    "\n",
    "from sklearn.model_selection import train_test_split\n",
    "from sklearn.linear_model import LinearRegression\n",
    "from sklearn.metrics import mean_squared_error, r2_score\n",
    "\n",
    "import statistics\n",
    "from statistics import mode\n",
    "from statsmodels import robust\n",
    "\n",
    "## Imports for Stepwise Regression\n",
    "from dmba.featureSelection import stepwise_selection\n",
    "from dmba import metric"
   ]
  },
  {
   "cell_type": "code",
   "execution_count": 2,
   "metadata": {},
   "outputs": [],
   "source": [
    "#loading the data\n",
    "data = pd.read_csv('train.csv')"
   ]
  },
  {
   "cell_type": "markdown",
   "metadata": {},
   "source": [
    "# Explanatory Data Analysis"
   ]
  },
  {
   "cell_type": "code",
   "execution_count": 3,
   "metadata": {},
   "outputs": [
    {
     "data": {
      "text/plain": [
       "(1460, 81)"
      ]
     },
     "execution_count": 3,
     "metadata": {},
     "output_type": "execute_result"
    }
   ],
   "source": [
    "#checking for the dimension of the dataset\n",
    "data.shape"
   ]
  },
  {
   "cell_type": "code",
   "execution_count": 4,
   "metadata": {},
   "outputs": [
    {
     "data": {
      "text/plain": [
       "object     43\n",
       "int64      35\n",
       "float64     3\n",
       "dtype: int64"
      ]
     },
     "execution_count": 4,
     "metadata": {},
     "output_type": "execute_result"
    }
   ],
   "source": [
    "# the counts of the types of features\n",
    "data.dtypes.value_counts()"
   ]
  },
  {
   "cell_type": "code",
   "execution_count": 5,
   "metadata": {},
   "outputs": [
    {
     "data": {
      "text/html": [
       "<div>\n",
       "<style scoped>\n",
       "    .dataframe tbody tr th:only-of-type {\n",
       "        vertical-align: middle;\n",
       "    }\n",
       "\n",
       "    .dataframe tbody tr th {\n",
       "        vertical-align: top;\n",
       "    }\n",
       "\n",
       "    .dataframe thead th {\n",
       "        text-align: right;\n",
       "    }\n",
       "</style>\n",
       "<table border=\"1\" class=\"dataframe\">\n",
       "  <thead>\n",
       "    <tr style=\"text-align: right;\">\n",
       "      <th></th>\n",
       "      <th>Id</th>\n",
       "      <th>MSSubClass</th>\n",
       "      <th>MSZoning</th>\n",
       "      <th>LotFrontage</th>\n",
       "      <th>LotArea</th>\n",
       "      <th>Street</th>\n",
       "      <th>Alley</th>\n",
       "      <th>LotShape</th>\n",
       "      <th>LandContour</th>\n",
       "      <th>Utilities</th>\n",
       "      <th>...</th>\n",
       "      <th>PoolArea</th>\n",
       "      <th>PoolQC</th>\n",
       "      <th>Fence</th>\n",
       "      <th>MiscFeature</th>\n",
       "      <th>MiscVal</th>\n",
       "      <th>MoSold</th>\n",
       "      <th>YrSold</th>\n",
       "      <th>SaleType</th>\n",
       "      <th>SaleCondition</th>\n",
       "      <th>SalePrice</th>\n",
       "    </tr>\n",
       "  </thead>\n",
       "  <tbody>\n",
       "    <tr>\n",
       "      <th>0</th>\n",
       "      <td>1</td>\n",
       "      <td>60</td>\n",
       "      <td>RL</td>\n",
       "      <td>65.0</td>\n",
       "      <td>8450</td>\n",
       "      <td>Pave</td>\n",
       "      <td>NaN</td>\n",
       "      <td>Reg</td>\n",
       "      <td>Lvl</td>\n",
       "      <td>AllPub</td>\n",
       "      <td>...</td>\n",
       "      <td>0</td>\n",
       "      <td>NaN</td>\n",
       "      <td>NaN</td>\n",
       "      <td>NaN</td>\n",
       "      <td>0</td>\n",
       "      <td>2</td>\n",
       "      <td>2008</td>\n",
       "      <td>WD</td>\n",
       "      <td>Normal</td>\n",
       "      <td>208500</td>\n",
       "    </tr>\n",
       "    <tr>\n",
       "      <th>1</th>\n",
       "      <td>2</td>\n",
       "      <td>20</td>\n",
       "      <td>RL</td>\n",
       "      <td>80.0</td>\n",
       "      <td>9600</td>\n",
       "      <td>Pave</td>\n",
       "      <td>NaN</td>\n",
       "      <td>Reg</td>\n",
       "      <td>Lvl</td>\n",
       "      <td>AllPub</td>\n",
       "      <td>...</td>\n",
       "      <td>0</td>\n",
       "      <td>NaN</td>\n",
       "      <td>NaN</td>\n",
       "      <td>NaN</td>\n",
       "      <td>0</td>\n",
       "      <td>5</td>\n",
       "      <td>2007</td>\n",
       "      <td>WD</td>\n",
       "      <td>Normal</td>\n",
       "      <td>181500</td>\n",
       "    </tr>\n",
       "    <tr>\n",
       "      <th>2</th>\n",
       "      <td>3</td>\n",
       "      <td>60</td>\n",
       "      <td>RL</td>\n",
       "      <td>68.0</td>\n",
       "      <td>11250</td>\n",
       "      <td>Pave</td>\n",
       "      <td>NaN</td>\n",
       "      <td>IR1</td>\n",
       "      <td>Lvl</td>\n",
       "      <td>AllPub</td>\n",
       "      <td>...</td>\n",
       "      <td>0</td>\n",
       "      <td>NaN</td>\n",
       "      <td>NaN</td>\n",
       "      <td>NaN</td>\n",
       "      <td>0</td>\n",
       "      <td>9</td>\n",
       "      <td>2008</td>\n",
       "      <td>WD</td>\n",
       "      <td>Normal</td>\n",
       "      <td>223500</td>\n",
       "    </tr>\n",
       "    <tr>\n",
       "      <th>3</th>\n",
       "      <td>4</td>\n",
       "      <td>70</td>\n",
       "      <td>RL</td>\n",
       "      <td>60.0</td>\n",
       "      <td>9550</td>\n",
       "      <td>Pave</td>\n",
       "      <td>NaN</td>\n",
       "      <td>IR1</td>\n",
       "      <td>Lvl</td>\n",
       "      <td>AllPub</td>\n",
       "      <td>...</td>\n",
       "      <td>0</td>\n",
       "      <td>NaN</td>\n",
       "      <td>NaN</td>\n",
       "      <td>NaN</td>\n",
       "      <td>0</td>\n",
       "      <td>2</td>\n",
       "      <td>2006</td>\n",
       "      <td>WD</td>\n",
       "      <td>Abnorml</td>\n",
       "      <td>140000</td>\n",
       "    </tr>\n",
       "    <tr>\n",
       "      <th>4</th>\n",
       "      <td>5</td>\n",
       "      <td>60</td>\n",
       "      <td>RL</td>\n",
       "      <td>84.0</td>\n",
       "      <td>14260</td>\n",
       "      <td>Pave</td>\n",
       "      <td>NaN</td>\n",
       "      <td>IR1</td>\n",
       "      <td>Lvl</td>\n",
       "      <td>AllPub</td>\n",
       "      <td>...</td>\n",
       "      <td>0</td>\n",
       "      <td>NaN</td>\n",
       "      <td>NaN</td>\n",
       "      <td>NaN</td>\n",
       "      <td>0</td>\n",
       "      <td>12</td>\n",
       "      <td>2008</td>\n",
       "      <td>WD</td>\n",
       "      <td>Normal</td>\n",
       "      <td>250000</td>\n",
       "    </tr>\n",
       "  </tbody>\n",
       "</table>\n",
       "<p>5 rows × 81 columns</p>\n",
       "</div>"
      ],
      "text/plain": [
       "   Id  MSSubClass MSZoning  LotFrontage  LotArea Street Alley LotShape  \\\n",
       "0   1          60       RL         65.0     8450   Pave   NaN      Reg   \n",
       "1   2          20       RL         80.0     9600   Pave   NaN      Reg   \n",
       "2   3          60       RL         68.0    11250   Pave   NaN      IR1   \n",
       "3   4          70       RL         60.0     9550   Pave   NaN      IR1   \n",
       "4   5          60       RL         84.0    14260   Pave   NaN      IR1   \n",
       "\n",
       "  LandContour Utilities  ... PoolArea PoolQC Fence MiscFeature MiscVal MoSold  \\\n",
       "0         Lvl    AllPub  ...        0    NaN   NaN         NaN       0      2   \n",
       "1         Lvl    AllPub  ...        0    NaN   NaN         NaN       0      5   \n",
       "2         Lvl    AllPub  ...        0    NaN   NaN         NaN       0      9   \n",
       "3         Lvl    AllPub  ...        0    NaN   NaN         NaN       0      2   \n",
       "4         Lvl    AllPub  ...        0    NaN   NaN         NaN       0     12   \n",
       "\n",
       "  YrSold  SaleType  SaleCondition  SalePrice  \n",
       "0   2008        WD         Normal     208500  \n",
       "1   2007        WD         Normal     181500  \n",
       "2   2008        WD         Normal     223500  \n",
       "3   2006        WD        Abnorml     140000  \n",
       "4   2008        WD         Normal     250000  \n",
       "\n",
       "[5 rows x 81 columns]"
      ]
     },
     "execution_count": 5,
     "metadata": {},
     "output_type": "execute_result"
    }
   ],
   "source": [
    "data.head()"
   ]
  },
  {
   "cell_type": "code",
   "execution_count": 6,
   "metadata": {},
   "outputs": [],
   "source": [
    "# Setting target column\n",
    "target = data[\"SalePrice\"]\n",
    "\n",
    "# Dropping 'Id' and 'SalePrice' columns from data\n",
    "data.drop([\"Id\",\"SalePrice\"], inplace=True, axis=1)"
   ]
  },
  {
   "cell_type": "code",
   "execution_count": 41,
   "metadata": {},
   "outputs": [
    {
     "data": {
      "text/html": [
       "<div>\n",
       "<style scoped>\n",
       "    .dataframe tbody tr th:only-of-type {\n",
       "        vertical-align: middle;\n",
       "    }\n",
       "\n",
       "    .dataframe tbody tr th {\n",
       "        vertical-align: top;\n",
       "    }\n",
       "\n",
       "    .dataframe thead th {\n",
       "        text-align: right;\n",
       "    }\n",
       "</style>\n",
       "<table border=\"1\" class=\"dataframe\">\n",
       "  <thead>\n",
       "    <tr style=\"text-align: right;\">\n",
       "      <th></th>\n",
       "      <th>count</th>\n",
       "      <th>mean</th>\n",
       "      <th>std</th>\n",
       "      <th>min</th>\n",
       "      <th>25%</th>\n",
       "      <th>50%</th>\n",
       "      <th>75%</th>\n",
       "      <th>max</th>\n",
       "    </tr>\n",
       "  </thead>\n",
       "  <tbody>\n",
       "    <tr>\n",
       "      <th>MSSubClass</th>\n",
       "      <td>1460.0</td>\n",
       "      <td>56.897260</td>\n",
       "      <td>42.300571</td>\n",
       "      <td>20.0</td>\n",
       "      <td>20.00</td>\n",
       "      <td>50.000000</td>\n",
       "      <td>70.00</td>\n",
       "      <td>190.0</td>\n",
       "    </tr>\n",
       "    <tr>\n",
       "      <th>LotFrontage</th>\n",
       "      <td>1460.0</td>\n",
       "      <td>70.049958</td>\n",
       "      <td>22.024023</td>\n",
       "      <td>21.0</td>\n",
       "      <td>60.00</td>\n",
       "      <td>70.049958</td>\n",
       "      <td>79.00</td>\n",
       "      <td>313.0</td>\n",
       "    </tr>\n",
       "    <tr>\n",
       "      <th>LotArea</th>\n",
       "      <td>1460.0</td>\n",
       "      <td>10516.828082</td>\n",
       "      <td>9981.264932</td>\n",
       "      <td>1300.0</td>\n",
       "      <td>7553.50</td>\n",
       "      <td>9478.500000</td>\n",
       "      <td>11601.50</td>\n",
       "      <td>215245.0</td>\n",
       "    </tr>\n",
       "    <tr>\n",
       "      <th>OverallQual</th>\n",
       "      <td>1460.0</td>\n",
       "      <td>6.099315</td>\n",
       "      <td>1.382997</td>\n",
       "      <td>1.0</td>\n",
       "      <td>5.00</td>\n",
       "      <td>6.000000</td>\n",
       "      <td>7.00</td>\n",
       "      <td>10.0</td>\n",
       "    </tr>\n",
       "    <tr>\n",
       "      <th>OverallCond</th>\n",
       "      <td>1460.0</td>\n",
       "      <td>5.575342</td>\n",
       "      <td>1.112799</td>\n",
       "      <td>1.0</td>\n",
       "      <td>5.00</td>\n",
       "      <td>5.000000</td>\n",
       "      <td>6.00</td>\n",
       "      <td>9.0</td>\n",
       "    </tr>\n",
       "    <tr>\n",
       "      <th>YearBuilt</th>\n",
       "      <td>1460.0</td>\n",
       "      <td>1971.267808</td>\n",
       "      <td>30.202904</td>\n",
       "      <td>1872.0</td>\n",
       "      <td>1954.00</td>\n",
       "      <td>1973.000000</td>\n",
       "      <td>2000.00</td>\n",
       "      <td>2010.0</td>\n",
       "    </tr>\n",
       "    <tr>\n",
       "      <th>YearRemodAdd</th>\n",
       "      <td>1460.0</td>\n",
       "      <td>1984.865753</td>\n",
       "      <td>20.645407</td>\n",
       "      <td>1950.0</td>\n",
       "      <td>1967.00</td>\n",
       "      <td>1994.000000</td>\n",
       "      <td>2004.00</td>\n",
       "      <td>2010.0</td>\n",
       "    </tr>\n",
       "    <tr>\n",
       "      <th>MasVnrArea</th>\n",
       "      <td>1460.0</td>\n",
       "      <td>103.685262</td>\n",
       "      <td>180.569112</td>\n",
       "      <td>0.0</td>\n",
       "      <td>0.00</td>\n",
       "      <td>0.000000</td>\n",
       "      <td>164.25</td>\n",
       "      <td>1600.0</td>\n",
       "    </tr>\n",
       "    <tr>\n",
       "      <th>BsmtFinSF1</th>\n",
       "      <td>1460.0</td>\n",
       "      <td>443.639726</td>\n",
       "      <td>456.098091</td>\n",
       "      <td>0.0</td>\n",
       "      <td>0.00</td>\n",
       "      <td>383.500000</td>\n",
       "      <td>712.25</td>\n",
       "      <td>5644.0</td>\n",
       "    </tr>\n",
       "    <tr>\n",
       "      <th>BsmtFinSF2</th>\n",
       "      <td>1460.0</td>\n",
       "      <td>46.549315</td>\n",
       "      <td>161.319273</td>\n",
       "      <td>0.0</td>\n",
       "      <td>0.00</td>\n",
       "      <td>0.000000</td>\n",
       "      <td>0.00</td>\n",
       "      <td>1474.0</td>\n",
       "    </tr>\n",
       "    <tr>\n",
       "      <th>BsmtUnfSF</th>\n",
       "      <td>1460.0</td>\n",
       "      <td>567.240411</td>\n",
       "      <td>441.866955</td>\n",
       "      <td>0.0</td>\n",
       "      <td>223.00</td>\n",
       "      <td>477.500000</td>\n",
       "      <td>808.00</td>\n",
       "      <td>2336.0</td>\n",
       "    </tr>\n",
       "    <tr>\n",
       "      <th>TotalBsmtSF</th>\n",
       "      <td>1460.0</td>\n",
       "      <td>1057.429452</td>\n",
       "      <td>438.705324</td>\n",
       "      <td>0.0</td>\n",
       "      <td>795.75</td>\n",
       "      <td>991.500000</td>\n",
       "      <td>1298.25</td>\n",
       "      <td>6110.0</td>\n",
       "    </tr>\n",
       "    <tr>\n",
       "      <th>1stFlrSF</th>\n",
       "      <td>1460.0</td>\n",
       "      <td>1162.626712</td>\n",
       "      <td>386.587738</td>\n",
       "      <td>334.0</td>\n",
       "      <td>882.00</td>\n",
       "      <td>1087.000000</td>\n",
       "      <td>1391.25</td>\n",
       "      <td>4692.0</td>\n",
       "    </tr>\n",
       "    <tr>\n",
       "      <th>2ndFlrSF</th>\n",
       "      <td>1460.0</td>\n",
       "      <td>346.992466</td>\n",
       "      <td>436.528436</td>\n",
       "      <td>0.0</td>\n",
       "      <td>0.00</td>\n",
       "      <td>0.000000</td>\n",
       "      <td>728.00</td>\n",
       "      <td>2065.0</td>\n",
       "    </tr>\n",
       "    <tr>\n",
       "      <th>LowQualFinSF</th>\n",
       "      <td>1460.0</td>\n",
       "      <td>5.844521</td>\n",
       "      <td>48.623081</td>\n",
       "      <td>0.0</td>\n",
       "      <td>0.00</td>\n",
       "      <td>0.000000</td>\n",
       "      <td>0.00</td>\n",
       "      <td>572.0</td>\n",
       "    </tr>\n",
       "    <tr>\n",
       "      <th>GrLivArea</th>\n",
       "      <td>1460.0</td>\n",
       "      <td>1515.463699</td>\n",
       "      <td>525.480383</td>\n",
       "      <td>334.0</td>\n",
       "      <td>1129.50</td>\n",
       "      <td>1464.000000</td>\n",
       "      <td>1776.75</td>\n",
       "      <td>5642.0</td>\n",
       "    </tr>\n",
       "    <tr>\n",
       "      <th>BsmtFullBath</th>\n",
       "      <td>1460.0</td>\n",
       "      <td>0.425342</td>\n",
       "      <td>0.518911</td>\n",
       "      <td>0.0</td>\n",
       "      <td>0.00</td>\n",
       "      <td>0.000000</td>\n",
       "      <td>1.00</td>\n",
       "      <td>3.0</td>\n",
       "    </tr>\n",
       "    <tr>\n",
       "      <th>BsmtHalfBath</th>\n",
       "      <td>1460.0</td>\n",
       "      <td>0.057534</td>\n",
       "      <td>0.238753</td>\n",
       "      <td>0.0</td>\n",
       "      <td>0.00</td>\n",
       "      <td>0.000000</td>\n",
       "      <td>0.00</td>\n",
       "      <td>2.0</td>\n",
       "    </tr>\n",
       "    <tr>\n",
       "      <th>FullBath</th>\n",
       "      <td>1460.0</td>\n",
       "      <td>1.565068</td>\n",
       "      <td>0.550916</td>\n",
       "      <td>0.0</td>\n",
       "      <td>1.00</td>\n",
       "      <td>2.000000</td>\n",
       "      <td>2.00</td>\n",
       "      <td>3.0</td>\n",
       "    </tr>\n",
       "    <tr>\n",
       "      <th>HalfBath</th>\n",
       "      <td>1460.0</td>\n",
       "      <td>0.382877</td>\n",
       "      <td>0.502885</td>\n",
       "      <td>0.0</td>\n",
       "      <td>0.00</td>\n",
       "      <td>0.000000</td>\n",
       "      <td>1.00</td>\n",
       "      <td>2.0</td>\n",
       "    </tr>\n",
       "    <tr>\n",
       "      <th>BedroomAbvGr</th>\n",
       "      <td>1460.0</td>\n",
       "      <td>2.866438</td>\n",
       "      <td>0.815778</td>\n",
       "      <td>0.0</td>\n",
       "      <td>2.00</td>\n",
       "      <td>3.000000</td>\n",
       "      <td>3.00</td>\n",
       "      <td>8.0</td>\n",
       "    </tr>\n",
       "    <tr>\n",
       "      <th>KitchenAbvGr</th>\n",
       "      <td>1460.0</td>\n",
       "      <td>1.046575</td>\n",
       "      <td>0.220338</td>\n",
       "      <td>0.0</td>\n",
       "      <td>1.00</td>\n",
       "      <td>1.000000</td>\n",
       "      <td>1.00</td>\n",
       "      <td>3.0</td>\n",
       "    </tr>\n",
       "    <tr>\n",
       "      <th>TotRmsAbvGrd</th>\n",
       "      <td>1460.0</td>\n",
       "      <td>6.517808</td>\n",
       "      <td>1.625393</td>\n",
       "      <td>2.0</td>\n",
       "      <td>5.00</td>\n",
       "      <td>6.000000</td>\n",
       "      <td>7.00</td>\n",
       "      <td>14.0</td>\n",
       "    </tr>\n",
       "    <tr>\n",
       "      <th>Fireplaces</th>\n",
       "      <td>1460.0</td>\n",
       "      <td>0.613014</td>\n",
       "      <td>0.644666</td>\n",
       "      <td>0.0</td>\n",
       "      <td>0.00</td>\n",
       "      <td>1.000000</td>\n",
       "      <td>1.00</td>\n",
       "      <td>3.0</td>\n",
       "    </tr>\n",
       "    <tr>\n",
       "      <th>GarageYrBlt</th>\n",
       "      <td>1460.0</td>\n",
       "      <td>1978.506164</td>\n",
       "      <td>23.994583</td>\n",
       "      <td>1900.0</td>\n",
       "      <td>1962.00</td>\n",
       "      <td>1978.506164</td>\n",
       "      <td>2001.00</td>\n",
       "      <td>2010.0</td>\n",
       "    </tr>\n",
       "    <tr>\n",
       "      <th>GarageCars</th>\n",
       "      <td>1460.0</td>\n",
       "      <td>1.767123</td>\n",
       "      <td>0.747315</td>\n",
       "      <td>0.0</td>\n",
       "      <td>1.00</td>\n",
       "      <td>2.000000</td>\n",
       "      <td>2.00</td>\n",
       "      <td>4.0</td>\n",
       "    </tr>\n",
       "    <tr>\n",
       "      <th>GarageArea</th>\n",
       "      <td>1460.0</td>\n",
       "      <td>472.980137</td>\n",
       "      <td>213.804841</td>\n",
       "      <td>0.0</td>\n",
       "      <td>334.50</td>\n",
       "      <td>480.000000</td>\n",
       "      <td>576.00</td>\n",
       "      <td>1418.0</td>\n",
       "    </tr>\n",
       "    <tr>\n",
       "      <th>WoodDeckSF</th>\n",
       "      <td>1460.0</td>\n",
       "      <td>94.244521</td>\n",
       "      <td>125.338794</td>\n",
       "      <td>0.0</td>\n",
       "      <td>0.00</td>\n",
       "      <td>0.000000</td>\n",
       "      <td>168.00</td>\n",
       "      <td>857.0</td>\n",
       "    </tr>\n",
       "    <tr>\n",
       "      <th>OpenPorchSF</th>\n",
       "      <td>1460.0</td>\n",
       "      <td>46.660274</td>\n",
       "      <td>66.256028</td>\n",
       "      <td>0.0</td>\n",
       "      <td>0.00</td>\n",
       "      <td>25.000000</td>\n",
       "      <td>68.00</td>\n",
       "      <td>547.0</td>\n",
       "    </tr>\n",
       "    <tr>\n",
       "      <th>EnclosedPorch</th>\n",
       "      <td>1460.0</td>\n",
       "      <td>21.954110</td>\n",
       "      <td>61.119149</td>\n",
       "      <td>0.0</td>\n",
       "      <td>0.00</td>\n",
       "      <td>0.000000</td>\n",
       "      <td>0.00</td>\n",
       "      <td>552.0</td>\n",
       "    </tr>\n",
       "    <tr>\n",
       "      <th>3SsnPorch</th>\n",
       "      <td>1460.0</td>\n",
       "      <td>3.409589</td>\n",
       "      <td>29.317331</td>\n",
       "      <td>0.0</td>\n",
       "      <td>0.00</td>\n",
       "      <td>0.000000</td>\n",
       "      <td>0.00</td>\n",
       "      <td>508.0</td>\n",
       "    </tr>\n",
       "    <tr>\n",
       "      <th>ScreenPorch</th>\n",
       "      <td>1460.0</td>\n",
       "      <td>15.060959</td>\n",
       "      <td>55.757415</td>\n",
       "      <td>0.0</td>\n",
       "      <td>0.00</td>\n",
       "      <td>0.000000</td>\n",
       "      <td>0.00</td>\n",
       "      <td>480.0</td>\n",
       "    </tr>\n",
       "    <tr>\n",
       "      <th>PoolArea</th>\n",
       "      <td>1460.0</td>\n",
       "      <td>2.758904</td>\n",
       "      <td>40.177307</td>\n",
       "      <td>0.0</td>\n",
       "      <td>0.00</td>\n",
       "      <td>0.000000</td>\n",
       "      <td>0.00</td>\n",
       "      <td>738.0</td>\n",
       "    </tr>\n",
       "    <tr>\n",
       "      <th>MiscVal</th>\n",
       "      <td>1460.0</td>\n",
       "      <td>43.489041</td>\n",
       "      <td>496.123024</td>\n",
       "      <td>0.0</td>\n",
       "      <td>0.00</td>\n",
       "      <td>0.000000</td>\n",
       "      <td>0.00</td>\n",
       "      <td>15500.0</td>\n",
       "    </tr>\n",
       "    <tr>\n",
       "      <th>MoSold</th>\n",
       "      <td>1460.0</td>\n",
       "      <td>6.321918</td>\n",
       "      <td>2.703626</td>\n",
       "      <td>1.0</td>\n",
       "      <td>5.00</td>\n",
       "      <td>6.000000</td>\n",
       "      <td>8.00</td>\n",
       "      <td>12.0</td>\n",
       "    </tr>\n",
       "    <tr>\n",
       "      <th>YrSold</th>\n",
       "      <td>1460.0</td>\n",
       "      <td>2007.815753</td>\n",
       "      <td>1.328095</td>\n",
       "      <td>2006.0</td>\n",
       "      <td>2007.00</td>\n",
       "      <td>2008.000000</td>\n",
       "      <td>2009.00</td>\n",
       "      <td>2010.0</td>\n",
       "    </tr>\n",
       "  </tbody>\n",
       "</table>\n",
       "</div>"
      ],
      "text/plain": [
       "                count          mean          std     min      25%  \\\n",
       "MSSubClass     1460.0     56.897260    42.300571    20.0    20.00   \n",
       "LotFrontage    1460.0     70.049958    22.024023    21.0    60.00   \n",
       "LotArea        1460.0  10516.828082  9981.264932  1300.0  7553.50   \n",
       "OverallQual    1460.0      6.099315     1.382997     1.0     5.00   \n",
       "OverallCond    1460.0      5.575342     1.112799     1.0     5.00   \n",
       "YearBuilt      1460.0   1971.267808    30.202904  1872.0  1954.00   \n",
       "YearRemodAdd   1460.0   1984.865753    20.645407  1950.0  1967.00   \n",
       "MasVnrArea     1460.0    103.685262   180.569112     0.0     0.00   \n",
       "BsmtFinSF1     1460.0    443.639726   456.098091     0.0     0.00   \n",
       "BsmtFinSF2     1460.0     46.549315   161.319273     0.0     0.00   \n",
       "BsmtUnfSF      1460.0    567.240411   441.866955     0.0   223.00   \n",
       "TotalBsmtSF    1460.0   1057.429452   438.705324     0.0   795.75   \n",
       "1stFlrSF       1460.0   1162.626712   386.587738   334.0   882.00   \n",
       "2ndFlrSF       1460.0    346.992466   436.528436     0.0     0.00   \n",
       "LowQualFinSF   1460.0      5.844521    48.623081     0.0     0.00   \n",
       "GrLivArea      1460.0   1515.463699   525.480383   334.0  1129.50   \n",
       "BsmtFullBath   1460.0      0.425342     0.518911     0.0     0.00   \n",
       "BsmtHalfBath   1460.0      0.057534     0.238753     0.0     0.00   \n",
       "FullBath       1460.0      1.565068     0.550916     0.0     1.00   \n",
       "HalfBath       1460.0      0.382877     0.502885     0.0     0.00   \n",
       "BedroomAbvGr   1460.0      2.866438     0.815778     0.0     2.00   \n",
       "KitchenAbvGr   1460.0      1.046575     0.220338     0.0     1.00   \n",
       "TotRmsAbvGrd   1460.0      6.517808     1.625393     2.0     5.00   \n",
       "Fireplaces     1460.0      0.613014     0.644666     0.0     0.00   \n",
       "GarageYrBlt    1460.0   1978.506164    23.994583  1900.0  1962.00   \n",
       "GarageCars     1460.0      1.767123     0.747315     0.0     1.00   \n",
       "GarageArea     1460.0    472.980137   213.804841     0.0   334.50   \n",
       "WoodDeckSF     1460.0     94.244521   125.338794     0.0     0.00   \n",
       "OpenPorchSF    1460.0     46.660274    66.256028     0.0     0.00   \n",
       "EnclosedPorch  1460.0     21.954110    61.119149     0.0     0.00   \n",
       "3SsnPorch      1460.0      3.409589    29.317331     0.0     0.00   \n",
       "ScreenPorch    1460.0     15.060959    55.757415     0.0     0.00   \n",
       "PoolArea       1460.0      2.758904    40.177307     0.0     0.00   \n",
       "MiscVal        1460.0     43.489041   496.123024     0.0     0.00   \n",
       "MoSold         1460.0      6.321918     2.703626     1.0     5.00   \n",
       "YrSold         1460.0   2007.815753     1.328095  2006.0  2007.00   \n",
       "\n",
       "                       50%       75%       max  \n",
       "MSSubClass       50.000000     70.00     190.0  \n",
       "LotFrontage      70.049958     79.00     313.0  \n",
       "LotArea        9478.500000  11601.50  215245.0  \n",
       "OverallQual       6.000000      7.00      10.0  \n",
       "OverallCond       5.000000      6.00       9.0  \n",
       "YearBuilt      1973.000000   2000.00    2010.0  \n",
       "YearRemodAdd   1994.000000   2004.00    2010.0  \n",
       "MasVnrArea        0.000000    164.25    1600.0  \n",
       "BsmtFinSF1      383.500000    712.25    5644.0  \n",
       "BsmtFinSF2        0.000000      0.00    1474.0  \n",
       "BsmtUnfSF       477.500000    808.00    2336.0  \n",
       "TotalBsmtSF     991.500000   1298.25    6110.0  \n",
       "1stFlrSF       1087.000000   1391.25    4692.0  \n",
       "2ndFlrSF          0.000000    728.00    2065.0  \n",
       "LowQualFinSF      0.000000      0.00     572.0  \n",
       "GrLivArea      1464.000000   1776.75    5642.0  \n",
       "BsmtFullBath      0.000000      1.00       3.0  \n",
       "BsmtHalfBath      0.000000      0.00       2.0  \n",
       "FullBath          2.000000      2.00       3.0  \n",
       "HalfBath          0.000000      1.00       2.0  \n",
       "BedroomAbvGr      3.000000      3.00       8.0  \n",
       "KitchenAbvGr      1.000000      1.00       3.0  \n",
       "TotRmsAbvGrd      6.000000      7.00      14.0  \n",
       "Fireplaces        1.000000      1.00       3.0  \n",
       "GarageYrBlt    1978.506164   2001.00    2010.0  \n",
       "GarageCars        2.000000      2.00       4.0  \n",
       "GarageArea      480.000000    576.00    1418.0  \n",
       "WoodDeckSF        0.000000    168.00     857.0  \n",
       "OpenPorchSF      25.000000     68.00     547.0  \n",
       "EnclosedPorch     0.000000      0.00     552.0  \n",
       "3SsnPorch         0.000000      0.00     508.0  \n",
       "ScreenPorch       0.000000      0.00     480.0  \n",
       "PoolArea          0.000000      0.00     738.0  \n",
       "MiscVal           0.000000      0.00   15500.0  \n",
       "MoSold            6.000000      8.00      12.0  \n",
       "YrSold         2008.000000   2009.00    2010.0  "
      ]
     },
     "execution_count": 41,
     "metadata": {},
     "output_type": "execute_result"
    }
   ],
   "source": [
    "# Viewing some basic statistical details like percentile, mean, std etc, using Pandas describe() function\n",
    "data.describe().T"
   ]
  },
  {
   "cell_type": "markdown",
   "metadata": {},
   "source": [
    "Obsereved that Pandas describe() function just returns back the statistical details for numeric features. \n",
    "\n",
    "It can be seen that there is a big difference between the mean value and std for the numerical features such as  'EnclosedPorch','3SsnPorch','ScreenPorch','PoolArea','MiscVal'. Also the minimum value, 25%, 50%, 75% quartiles for these features are zero. Since majority of the values are 0, then it might not be much value to determine the sales price.\n",
    "\n",
    "TR: \"We can conclude that the observations for these features are outliers.\""
   ]
  },
  {
   "cell_type": "code",
   "execution_count": 8,
   "metadata": {},
   "outputs": [
    {
     "data": {
      "text/plain": [
       "<AxesSubplot:ylabel='Frequency'>"
      ]
     },
     "execution_count": 8,
     "metadata": {},
     "output_type": "execute_result"
    }
   ],
   "source": [
    "data['EnclosedPorch'].plot(kind='hist')"
   ]
  },
  {
   "cell_type": "code",
   "execution_count": 43,
   "metadata": {},
   "outputs": [
    {
     "data": {
      "text/plain": [
       "<matplotlib.collections.PathCollection at 0x285433b20>"
      ]
     },
     "execution_count": 43,
     "metadata": {},
     "output_type": "execute_result"
    }
   ],
   "source": [
    "plt.scatter(data['EnclosedPorch'], target)"
   ]
  },
  {
   "cell_type": "markdown",
   "metadata": {},
   "source": [
    "# Finding the missing values\n",
    "\n",
    "Missing values are the most common issue with any data science project. \n",
    "Most of the machine learning algorithms are not able to handle missing values. Thus, these missing values must be addressed before applying any machine learning algorithm. \n",
    "\n",
    "Missing values can be handled in different ways depending on if the missing values are continuous or categorical. So we first separet the numeric and categorical features. Then we try to count the number of missing values in each columns. \n",
    "\n",
    "It would be better to sort the columns in descending order in order to see the columns with highest missing values."
   ]
  },
  {
   "cell_type": "code",
   "execution_count": 47,
   "metadata": {},
   "outputs": [],
   "source": [
    "#extracting numeric and categorical columns\n",
    "# data_numeric = Data.select_dtypes(include='number')\n",
    "# data_categorical= Data.select_dtypes(include='object')\n",
    "data_numeric = data.select_dtypes(include='number').columns.to_list()\n",
    "data_categorical = data.select_dtypes(include='object').columns.to_list()"
   ]
  },
  {
   "cell_type": "code",
   "execution_count": 11,
   "metadata": {},
   "outputs": [
    {
     "data": {
      "text/plain": [
       "LotFrontage      0.177397\n",
       "GarageYrBlt      0.055479\n",
       "MasVnrArea       0.005479\n",
       "WoodDeckSF       0.000000\n",
       "BedroomAbvGr     0.000000\n",
       "KitchenAbvGr     0.000000\n",
       "TotRmsAbvGrd     0.000000\n",
       "Fireplaces       0.000000\n",
       "GarageCars       0.000000\n",
       "GarageArea       0.000000\n",
       "MSSubClass       0.000000\n",
       "HalfBath         0.000000\n",
       "EnclosedPorch    0.000000\n",
       "3SsnPorch        0.000000\n",
       "ScreenPorch      0.000000\n",
       "PoolArea         0.000000\n",
       "MiscVal          0.000000\n",
       "MoSold           0.000000\n",
       "OpenPorchSF      0.000000\n",
       "FullBath         0.000000\n",
       "BsmtHalfBath     0.000000\n",
       "BsmtFullBath     0.000000\n",
       "GrLivArea        0.000000\n",
       "LowQualFinSF     0.000000\n",
       "2ndFlrSF         0.000000\n",
       "1stFlrSF         0.000000\n",
       "TotalBsmtSF      0.000000\n",
       "BsmtUnfSF        0.000000\n",
       "BsmtFinSF2       0.000000\n",
       "BsmtFinSF1       0.000000\n",
       "YearRemodAdd     0.000000\n",
       "YearBuilt        0.000000\n",
       "OverallCond      0.000000\n",
       "OverallQual      0.000000\n",
       "LotArea          0.000000\n",
       "YrSold           0.000000\n",
       "dtype: float64"
      ]
     },
     "execution_count": 11,
     "metadata": {},
     "output_type": "execute_result"
    }
   ],
   "source": [
    "#getting numerical columns with the missing values in descending order.\n",
    "data[data_numeric].isnull().sum().sort_values(ascending=False)/data.shape[0]"
   ]
  },
  {
   "cell_type": "markdown",
   "metadata": {},
   "source": [
    "It is seen that three features \"LotFrontage\", \"GarageYrBlt\", and \"MasVnrArea\" have nearrly 18%, 5.5%, and .55% missing values, respectively. These missing values might be better to be replaced by the value of mean or median etc since it is only a handful."
   ]
  },
  {
   "cell_type": "code",
   "execution_count": 12,
   "metadata": {},
   "outputs": [
    {
     "data": {
      "text/html": [
       "<div>\n",
       "<style scoped>\n",
       "    .dataframe tbody tr th:only-of-type {\n",
       "        vertical-align: middle;\n",
       "    }\n",
       "\n",
       "    .dataframe tbody tr th {\n",
       "        vertical-align: top;\n",
       "    }\n",
       "\n",
       "    .dataframe thead th {\n",
       "        text-align: right;\n",
       "    }\n",
       "</style>\n",
       "<table border=\"1\" class=\"dataframe\">\n",
       "  <thead>\n",
       "    <tr style=\"text-align: right;\">\n",
       "      <th></th>\n",
       "      <th>MSZoning</th>\n",
       "      <th>Street</th>\n",
       "      <th>Alley</th>\n",
       "      <th>LotShape</th>\n",
       "      <th>LandContour</th>\n",
       "      <th>Utilities</th>\n",
       "      <th>LotConfig</th>\n",
       "      <th>LandSlope</th>\n",
       "      <th>Neighborhood</th>\n",
       "      <th>Condition1</th>\n",
       "      <th>...</th>\n",
       "      <th>GarageType</th>\n",
       "      <th>GarageFinish</th>\n",
       "      <th>GarageQual</th>\n",
       "      <th>GarageCond</th>\n",
       "      <th>PavedDrive</th>\n",
       "      <th>PoolQC</th>\n",
       "      <th>Fence</th>\n",
       "      <th>MiscFeature</th>\n",
       "      <th>SaleType</th>\n",
       "      <th>SaleCondition</th>\n",
       "    </tr>\n",
       "  </thead>\n",
       "  <tbody>\n",
       "    <tr>\n",
       "      <th>count</th>\n",
       "      <td>1460</td>\n",
       "      <td>1460</td>\n",
       "      <td>91</td>\n",
       "      <td>1460</td>\n",
       "      <td>1460</td>\n",
       "      <td>1460</td>\n",
       "      <td>1460</td>\n",
       "      <td>1460</td>\n",
       "      <td>1460</td>\n",
       "      <td>1460</td>\n",
       "      <td>...</td>\n",
       "      <td>1379</td>\n",
       "      <td>1379</td>\n",
       "      <td>1379</td>\n",
       "      <td>1379</td>\n",
       "      <td>1460</td>\n",
       "      <td>7</td>\n",
       "      <td>281</td>\n",
       "      <td>54</td>\n",
       "      <td>1460</td>\n",
       "      <td>1460</td>\n",
       "    </tr>\n",
       "    <tr>\n",
       "      <th>unique</th>\n",
       "      <td>5</td>\n",
       "      <td>2</td>\n",
       "      <td>2</td>\n",
       "      <td>4</td>\n",
       "      <td>4</td>\n",
       "      <td>2</td>\n",
       "      <td>5</td>\n",
       "      <td>3</td>\n",
       "      <td>25</td>\n",
       "      <td>9</td>\n",
       "      <td>...</td>\n",
       "      <td>6</td>\n",
       "      <td>3</td>\n",
       "      <td>5</td>\n",
       "      <td>5</td>\n",
       "      <td>3</td>\n",
       "      <td>3</td>\n",
       "      <td>4</td>\n",
       "      <td>4</td>\n",
       "      <td>9</td>\n",
       "      <td>6</td>\n",
       "    </tr>\n",
       "    <tr>\n",
       "      <th>top</th>\n",
       "      <td>RL</td>\n",
       "      <td>Pave</td>\n",
       "      <td>Grvl</td>\n",
       "      <td>Reg</td>\n",
       "      <td>Lvl</td>\n",
       "      <td>AllPub</td>\n",
       "      <td>Inside</td>\n",
       "      <td>Gtl</td>\n",
       "      <td>NAmes</td>\n",
       "      <td>Norm</td>\n",
       "      <td>...</td>\n",
       "      <td>Attchd</td>\n",
       "      <td>Unf</td>\n",
       "      <td>TA</td>\n",
       "      <td>TA</td>\n",
       "      <td>Y</td>\n",
       "      <td>Gd</td>\n",
       "      <td>MnPrv</td>\n",
       "      <td>Shed</td>\n",
       "      <td>WD</td>\n",
       "      <td>Normal</td>\n",
       "    </tr>\n",
       "    <tr>\n",
       "      <th>freq</th>\n",
       "      <td>1151</td>\n",
       "      <td>1454</td>\n",
       "      <td>50</td>\n",
       "      <td>925</td>\n",
       "      <td>1311</td>\n",
       "      <td>1459</td>\n",
       "      <td>1052</td>\n",
       "      <td>1382</td>\n",
       "      <td>225</td>\n",
       "      <td>1260</td>\n",
       "      <td>...</td>\n",
       "      <td>870</td>\n",
       "      <td>605</td>\n",
       "      <td>1311</td>\n",
       "      <td>1326</td>\n",
       "      <td>1340</td>\n",
       "      <td>3</td>\n",
       "      <td>157</td>\n",
       "      <td>49</td>\n",
       "      <td>1267</td>\n",
       "      <td>1198</td>\n",
       "    </tr>\n",
       "  </tbody>\n",
       "</table>\n",
       "<p>4 rows × 43 columns</p>\n",
       "</div>"
      ],
      "text/plain": [
       "       MSZoning Street Alley LotShape LandContour Utilities LotConfig  \\\n",
       "count      1460   1460    91     1460        1460      1460      1460   \n",
       "unique        5      2     2        4           4         2         5   \n",
       "top          RL   Pave  Grvl      Reg         Lvl    AllPub    Inside   \n",
       "freq       1151   1454    50      925        1311      1459      1052   \n",
       "\n",
       "       LandSlope Neighborhood Condition1  ... GarageType GarageFinish  \\\n",
       "count       1460         1460       1460  ...       1379         1379   \n",
       "unique         3           25          9  ...          6            3   \n",
       "top          Gtl        NAmes       Norm  ...     Attchd          Unf   \n",
       "freq        1382          225       1260  ...        870          605   \n",
       "\n",
       "       GarageQual GarageCond PavedDrive PoolQC  Fence MiscFeature SaleType  \\\n",
       "count        1379       1379       1460      7    281          54     1460   \n",
       "unique          5          5          3      3      4           4        9   \n",
       "top            TA         TA          Y     Gd  MnPrv        Shed       WD   \n",
       "freq         1311       1326       1340      3    157          49     1267   \n",
       "\n",
       "       SaleCondition  \n",
       "count           1460  \n",
       "unique             6  \n",
       "top           Normal  \n",
       "freq            1198  \n",
       "\n",
       "[4 rows x 43 columns]"
      ]
     },
     "execution_count": 12,
     "metadata": {},
     "output_type": "execute_result"
    }
   ],
   "source": [
    "#Viewing the basic statistical details of Categorical features using Pandas describe() function.\n",
    "data[data_categorical].describe()"
   ]
  },
  {
   "cell_type": "code",
   "execution_count": 13,
   "metadata": {},
   "outputs": [
    {
     "data": {
      "text/plain": [
       "PoolQC           0.995205\n",
       "MiscFeature      0.963014\n",
       "Alley            0.937671\n",
       "Fence            0.807534\n",
       "FireplaceQu      0.472603\n",
       "GarageType       0.055479\n",
       "GarageCond       0.055479\n",
       "GarageQual       0.055479\n",
       "GarageFinish     0.055479\n",
       "BsmtFinType2     0.026027\n",
       "BsmtExposure     0.026027\n",
       "BsmtFinType1     0.025342\n",
       "BsmtQual         0.025342\n",
       "BsmtCond         0.025342\n",
       "MasVnrType       0.005479\n",
       "Electrical       0.000685\n",
       "Functional       0.000000\n",
       "KitchenQual      0.000000\n",
       "CentralAir       0.000000\n",
       "HeatingQC        0.000000\n",
       "Heating          0.000000\n",
       "PavedDrive       0.000000\n",
       "SaleType         0.000000\n",
       "MSZoning         0.000000\n",
       "Street           0.000000\n",
       "Condition2       0.000000\n",
       "LotShape         0.000000\n",
       "LandContour      0.000000\n",
       "Utilities        0.000000\n",
       "LotConfig        0.000000\n",
       "LandSlope        0.000000\n",
       "Neighborhood     0.000000\n",
       "Condition1       0.000000\n",
       "BldgType         0.000000\n",
       "Foundation       0.000000\n",
       "HouseStyle       0.000000\n",
       "RoofStyle        0.000000\n",
       "RoofMatl         0.000000\n",
       "Exterior1st      0.000000\n",
       "Exterior2nd      0.000000\n",
       "ExterQual        0.000000\n",
       "ExterCond        0.000000\n",
       "SaleCondition    0.000000\n",
       "dtype: float64"
      ]
     },
     "execution_count": 13,
     "metadata": {},
     "output_type": "execute_result"
    }
   ],
   "source": [
    "#getting categorical columns with the missing values in descending order.\n",
    "data[data_categorical].isnull().sum().sort_values(ascending=False)/data.shape[0]"
   ]
  },
  {
   "cell_type": "markdown",
   "metadata": {},
   "source": [
    "Columns like PoolQC, MiscFeature, Alley, Fence, have extremly large missing values (99%, 96%, 94%, 81% respectively). These columns might be better to remove from the dataset, since they are not informative. "
   ]
  },
  {
   "cell_type": "markdown",
   "metadata": {},
   "source": [
    "# Dealing with missing values\n",
    "\n",
    "1- Deleting the column with missing data\n",
    "\n",
    "2- Filling the Missing Values – Imputation:\n",
    "  \n",
    "     * Filling the missing data with the mean or median value, median absolute deviation etc if         it’s a numerical variable.\n",
    "     * Filling the missing data with mode if it’s a categorical value.\n",
    "     **???????Filling the numerical value with 0 or -999, or some other number that will not      occur in the data. This can be done so that the machine can recognize that the data \n",
    "     is not real or is different.\n"
   ]
  },
  {
   "cell_type": "code",
   "execution_count": 14,
   "metadata": {},
   "outputs": [
    {
     "data": {
      "text/plain": [
       "0"
      ]
     },
     "execution_count": 14,
     "metadata": {},
     "output_type": "execute_result"
    }
   ],
   "source": [
    "# Filling the missing values in numeric columns with mean\n",
    "\n",
    "rows = data.shape[0]\n",
    "\n",
    "## Looping through numeric columns\n",
    "for col in data_numeric:\n",
    "    \n",
    "    ## Checking to \n",
    "    if data[col].isnull().sum() > (0.25 * rows):\n",
    "        \n",
    "        ## Dropping column from dataframe\n",
    "        data.drop(col, axis=1, inplace=True)\n",
    "        \n",
    "        ## Dropping column from list of numeric columns\n",
    "        data_numeric.remove(col)\n",
    "    else:     \n",
    "        replacement_value = data[col].mean()\n",
    "        data[col].fillna(replacement_value, inplace=True ) \n",
    "data[data_numeric].isnull().sum().sum() "
   ]
  },
  {
   "cell_type": "code",
   "execution_count": 15,
   "metadata": {},
   "outputs": [
    {
     "data": {
      "text/plain": [
       "1260"
      ]
     },
     "execution_count": 15,
     "metadata": {},
     "output_type": "execute_result"
    }
   ],
   "source": [
    "#filling the missing values in categorical columns with mode\n",
    "\n",
    "for col in data_categorical:\n",
    "    if data[col].isnull().sum() > (0.25 * rows):\n",
    "        data.drop(col, axis=1, inplace=True)\n",
    "        data_categorical.remove(col)\n",
    "    else:\n",
    "        dropped = data[col].dropna()\n",
    "        data[col] = data[col].fillna(mode(dropped)) \n",
    "\n",
    "data[data_categorical].isnull().sum().sum()    "
   ]
  },
  {
   "cell_type": "markdown",
   "metadata": {},
   "source": [
    "# Data visualization "
   ]
  },
  {
   "cell_type": "code",
   "execution_count": 39,
   "metadata": {},
   "outputs": [
    {
     "data": {
      "text/plain": [
       "(array([148., 723., 373., 135.,  51.,  19.,   4.,   3.,   2.,   2.]),\n",
       " array([ 34900., 106910., 178920., 250930., 322940., 394950., 466960.,\n",
       "        538970., 610980., 682990., 755000.]),\n",
       " <BarContainer object of 10 artists>)"
      ]
     },
     "execution_count": 39,
     "metadata": {},
     "output_type": "execute_result"
    }
   ],
   "source": [
    "plt.hist(target)"
   ]
  },
  {
   "cell_type": "markdown",
   "metadata": {},
   "source": [
    "## Scatter plot"
   ]
  },
  {
   "cell_type": "markdown",
   "metadata": {},
   "source": [
    "Scatter plot is a graph in which the values of two variables are plotted along two axes. It is a most basic type of plot that helps you visualize the relationship between two variables"
   ]
  },
  {
   "cell_type": "code",
   "execution_count": 16,
   "metadata": {},
   "outputs": [
    {
     "name": "stderr",
     "output_type": "stream",
     "text": [
      "/var/folders/3h/n7g9d8x521gg4nfvf31y3_840000gn/T/ipykernel_47356/3826756400.py:12: UserWarning: Matplotlib is currently using agg, which is a non-GUI backend, so cannot show the figure.\n",
      "  plt.show()\n"
     ]
    }
   ],
   "source": [
    "fig = plt.figure(figsize = (14, 56)) \n",
    "for i in range(len(data_numeric)): \n",
    "    plt.subplot(6,6,i+1)   \n",
    "    plt.title(data_numeric[i], size = 10, fontname = 'monospace')   \n",
    "    a = plt.scatter(x=data[data_numeric[i]], y=target)  \n",
    "    plt.ylabel('Saleprice')   \n",
    "    plt.xlabel('')   \n",
    "    plt.xticks(fontname = 'monospace')   \n",
    "    plt.yticks([])   \n",
    "\n",
    "fig.tight_layout(h_pad = 3) \n",
    "plt.show()"
   ]
  },
  {
   "cell_type": "markdown",
   "metadata": {},
   "source": [
    "## Histogram"
   ]
  },
  {
   "cell_type": "code",
   "execution_count": null,
   "metadata": {},
   "outputs": [],
   "source": [
    "length=len(data_numeric)\n",
    "fig = plt.figure(figsize = (14, 56)) \n",
    "      \n",
    "for i in range(length): \n",
    "    plt.subplot(12,3,i+1)   \n",
    "    sns.histplot(data=data, x=data_numeric[i])     "
   ]
  },
  {
   "cell_type": "markdown",
   "metadata": {},
   "source": [
    "## Boxplot"
   ]
  },
  {
   "cell_type": "markdown",
   "metadata": {},
   "source": [
    "A box plot is a statistical representation of the distribution of a variable through its quartiles. The ends of the box represent the lower and upper quartiles, while the median (second quartile) is marked by a line inside the box."
   ]
  },
  {
   "cell_type": "code",
   "execution_count": 18,
   "metadata": {},
   "outputs": [],
   "source": [
    "length=len(data_categorical)\n",
    "fig = plt.figure(figsize = (14, 56)) \n",
    "      \n",
    "for i in range(length):\n",
    "    plt.subplot(9,5,i+1)   \n",
    "    sns.boxplot(data=data, x=data_categorical[i], y=target)     "
   ]
  },
  {
   "cell_type": "markdown",
   "metadata": {},
   "source": [
    "# Data Processing"
   ]
  },
  {
   "cell_type": "code",
   "execution_count": 19,
   "metadata": {},
   "outputs": [],
   "source": [
    "# Dummifying the categorical\n",
    "dummy_data = pd.get_dummies(data, drop_first=True)"
   ]
  },
  {
   "cell_type": "code",
   "execution_count": 70,
   "metadata": {},
   "outputs": [],
   "source": [
    "# Splitting the data into train and test\n",
    "X_train, X_valid, y_train, y_valid = train_test_split(dummy_data, target, test_size=0.30, random_state=0) "
   ]
  },
  {
   "cell_type": "markdown",
   "metadata": {},
   "source": [
    "# Baseline Model"
   ]
  },
  {
   "cell_type": "code",
   "execution_count": 71,
   "metadata": {},
   "outputs": [
    {
     "data": {
      "text/plain": [
       "LinearRegression()"
      ]
     },
     "execution_count": 71,
     "metadata": {},
     "output_type": "execute_result"
    }
   ],
   "source": [
    "# Fitting a linear regression\n",
    "reg = LinearRegression()\n",
    "reg.fit(X_train, y_train)"
   ]
  },
  {
   "cell_type": "code",
   "execution_count": 72,
   "metadata": {},
   "outputs": [],
   "source": [
    "# Calculating train mse\n",
    "train_preds = reg.predict(X_train)\n",
    "train_mse = mean_squared_error(train_preds, y_train)\n",
    "train_r2 = r2_score(train_preds, y_train)"
   ]
  },
  {
   "cell_type": "code",
   "execution_count": 73,
   "metadata": {},
   "outputs": [],
   "source": [
    "# Calculating valid mse\n",
    "prediction = reg.predict(X_valid)\n",
    "valid_mse = mean_squared_error(prediction, y_valid)\n",
    "valid_r2 = r2_score(prediction, y_valid)"
   ]
  },
  {
   "cell_type": "code",
   "execution_count": 74,
   "metadata": {},
   "outputs": [
    {
     "name": "stdout",
     "output_type": "stream",
     "text": [
      "---MSE---\n",
      "Train MSE: 325688756.1037614\n",
      "Valid MSE: 2285602286.8297067\n",
      "---R^2---\n",
      "Train MSE: 0.9435945702487162\n",
      "Valid MSE: 0.6981797528554989\n"
     ]
    }
   ],
   "source": [
    "# Printing train and valid mse\n",
    "print('---MSE---')\n",
    "print(f'Train MSE: {train_mse}')\n",
    "print(f'Valid MSE: {valid_mse}')\n",
    "print('---R^2---')\n",
    "print(f'Train R^2: {train_r2}')\n",
    "print(f'Valid R^2: {valid_r2}')"
   ]
  },
  {
   "cell_type": "markdown",
   "metadata": {},
   "source": [
    "I obseved a huge MSE (e40) I checked predictions and saw - values for predictions. Therefore i need to log prices "
   ]
  },
  {
   "cell_type": "code",
   "execution_count": 66,
   "metadata": {},
   "outputs": [
    {
     "data": {
      "text/plain": [
       "array([ 290368.15993252,  140934.01602928,  126629.08087082,\n",
       "        229810.41453626,  100248.32650795,   59910.63480001,\n",
       "        249741.4631671 ,  131949.49965632,  773429.05334271,\n",
       "        160453.02360947,  198227.71579679,  144805.02654001,\n",
       "        224126.61052359,  122826.07413891,  110793.44041251,\n",
       "        140532.60072622,  226624.70732162,  125228.27782192,\n",
       "        139307.96508257,  166664.4398814 ,  120130.87839219,\n",
       "        197611.01996241,   97833.3312183 ,  153250.67145275,\n",
       "        194169.25801965,  153250.80401705,  169173.95363341,\n",
       "         75111.08868643,  297791.17489078,  116310.72936948,\n",
       "        154650.32436779,  197585.29116823,  154062.36184154,\n",
       "        288539.70443777,  352168.89395101,  197104.55020246,\n",
       "        274084.95574007,  124230.98562134,  237059.26193036,\n",
       "        329103.06162   ,  198998.07441887,  122366.70049365,\n",
       "        187344.7184079 ,  306406.45150626,  394081.4648805 ,\n",
       "        148644.8588501 ,  115408.30803802,  137553.83898996,\n",
       "        168571.3570439 ,   94330.70214016,  421386.96987068,\n",
       "        153826.37159923,  165014.97829594,   81183.47556218,\n",
       "        238195.88683813,  103287.11375492,   95585.60132939,\n",
       "        220298.25256164,  128363.38046144,   77941.80462236,\n",
       "        139132.19508356,  131527.4488628 ,  127763.09776606,\n",
       "        150606.28001454,  209613.51513349,  170379.46392603,\n",
       "        125755.45820763,  217517.50275363,  145863.71568008,\n",
       "        208413.53116308,  186163.09064568,  127229.21401418,\n",
       "         48092.69982659,  264317.13871851,   94865.38835001,\n",
       "        247744.28619767,  127820.08413415,  123228.14661261,\n",
       "        313827.43052056,  235926.90327245,  135388.87529599,\n",
       "        141294.51859358,  124644.54071452,  151209.74171705,\n",
       "        237155.03354993,  193533.65822266,   99093.07137997,\n",
       "        195317.08473874,  164386.83513318,  141695.77533897,\n",
       "        184068.4267285 ,  176970.76598594,  178691.32870793,\n",
       "        223150.24725967,  184744.84709578,  148731.53688174,\n",
       "        207201.13648962,  161222.06983565,  121115.32870949,\n",
       "        151846.22749659,  239559.85908673,  223796.83094626,\n",
       "        116432.16336058,  144956.03659187,  109246.29518387,\n",
       "        262097.60400504,  153090.47873338,   88729.80569371,\n",
       "        172338.51198619,  111762.80463923,  119727.79178362,\n",
       "        105821.80017899,  173035.26337721,  116573.58752803,\n",
       "        145871.81275721,  162702.43188157,  438621.5759191 ,\n",
       "        120691.32210106,  202296.77851282,  256387.93289436,\n",
       "        149905.68115408,  151895.02867016,  124953.06034549,\n",
       "        178204.49319165,  211263.91807051,  254540.15892134,\n",
       "        390024.69049393,  209830.02929861,  199912.25722202,\n",
       "        170874.76073648,  199128.0667158 ,  181470.00518597,\n",
       "        147265.14765981,  181791.98767171,  106817.48660143,\n",
       "        203333.33985882,  139092.78303775,  177118.63156089,\n",
       "        106434.4797285 ,  170390.6987998 ,  178681.42883022,\n",
       "        130212.95592935,  245333.07566352,  151257.5944362 ,\n",
       "        127964.06305032,  167045.74656945,  204933.67752545,\n",
       "        144831.35150455,  285934.40130813,  224142.99373011,\n",
       "        161751.58877051,  353445.67399397,  280087.57326624,\n",
       "        159059.45444135,  136410.27299062,  324429.98031414,\n",
       "        135537.16273926,  191702.82305727,  126994.56383316,\n",
       "        161174.79315615,  111125.8588696 ,  128565.39245218,\n",
       "        203812.74341196,  120837.27687412,  221835.34163115,\n",
       "        109291.27628877,  158662.04779482,  260038.87794532,\n",
       "        164773.53739695,  171175.25155603,  165545.22257081,\n",
       "        161206.34434949,  190082.46881507,  166761.20425921,\n",
       "        116626.98167522,  123112.36501325,  131954.3562634 ,\n",
       "        260738.11991631,  113657.460428  ,  139914.03761771,\n",
       "        297799.81437629,  189363.29344392,  125474.27508392,\n",
       "        285754.34946668,  105487.60119653,  190251.7752664 ,\n",
       "         96207.92541269,  204209.78705995,  208834.59893927,\n",
       "        139085.13134021,  142558.85194972,  183069.0093333 ,\n",
       "        206378.59156992,  142897.84569402,  159571.37445873,\n",
       "        145036.00170483,   78370.61872756,  143838.33308719,\n",
       "        164220.32258398,  115637.72673565,  123482.00306948,\n",
       "        192945.8463707 ,  125000.04703217,  115934.78461178,\n",
       "        137966.90516514,  202422.19881392,  155845.358987  ,\n",
       "        330620.02392846,  266442.09282068,   74686.85827051,\n",
       "        150568.87247807,  261011.77704218,   87393.46724681,\n",
       "        105322.88190308,  333386.86603463,  176520.2354375 ,\n",
       "        180176.25648985,  304676.01203386,  246738.24030489,\n",
       "         78218.77356296,  192101.26260019,   87201.03937991,\n",
       "        120203.50802284,  135816.08359117,  198536.71931058,\n",
       "        270251.84946311,  233860.09575695,  182896.4810571 ,\n",
       "        126922.87450393,  154956.51433277,   91571.01393076,\n",
       "        142368.39746123,   94996.4319682 ,  153070.49049016,\n",
       "        235120.7491804 ,  128625.66463606,  128888.76359819,\n",
       "        115521.86734317,   73685.76233722,  178255.1732763 ,\n",
       "        110919.76230681,  188372.60951238,  197869.1855561 ,\n",
       "        212820.5600668 ,  205194.58344297,  167764.66516066,\n",
       "        196790.48038012,  186506.58325989,  152646.436054  ,\n",
       "        198045.98276215,  179266.81000485,  268124.1512398 ,\n",
       "         95763.34693503,  457426.51819543,  243941.30018664,\n",
       "        224182.75397628,  108436.81528913,  215076.84284208,\n",
       "        546484.68482038, 3120526.24908994,  191711.16821844,\n",
       "        111701.68274144,  127023.04316358,   89719.60315368,\n",
       "         78842.27253662,  349066.67282421,  402072.82026133,\n",
       "         72863.62422123,  223234.83973878,  229044.19857315,\n",
       "        126293.90950849,  237985.42038438,  144615.07310244,\n",
       "        158190.56720802,  119480.31979759,  229855.58139336,\n",
       "        219267.80096249,  251731.5942463 ,  201007.38661897,\n",
       "         78522.71782881,  130825.33509818,  303616.7096538 ,\n",
       "        169450.41874187,  138808.31725186,  190363.88267949,\n",
       "        140545.95761925,  116191.90706949,  285011.56494136,\n",
       "        560034.7733282 ,  199509.49048908,  100729.39432067,\n",
       "        107780.90656912,  311355.125932  ,  103318.60873901,\n",
       "        145912.03151249,  252065.92903524,  222102.51498272,\n",
       "        191883.21441262,  132883.07704078,  170306.15941836,\n",
       "         86822.64751448,  132789.58792603,  176849.02196859,\n",
       "        190197.75504785,  156703.65238865,  129836.1763874 ,\n",
       "        142883.83092585,  202421.59038309,  187274.07580013,\n",
       "        168842.00628116,  111856.59278784,  177891.71149816,\n",
       "        110073.37822683,  121196.65761316,  124001.3527024 ,\n",
       "        141580.58903337,  321535.45011356,  113061.29056   ,\n",
       "        178998.25900513,  139094.20130861,  135165.69654935,\n",
       "        264330.93969126,  106139.85494006,  216495.75162088,\n",
       "        124038.06040968,  244379.36376583,  131769.00133752,\n",
       "        330752.98793371,  235723.90087592,  142565.6591683 ,\n",
       "        117004.63870027,  216778.30665497,  180095.30691618,\n",
       "        192379.84989218,  153027.15530286,  164715.42544198,\n",
       "        133914.48045386,  193832.95514452,  137622.76248841,\n",
       "        120916.88163573,  354969.60056756,  147924.10765768,\n",
       "        157926.73134429,  203625.20161208,  184459.92943677,\n",
       "        129911.67369155,  117126.20039347,  103079.43669537,\n",
       "        104067.28566971,  143790.54557076,  215104.38445539,\n",
       "        326664.64399857,  113412.13630206,  103891.19628674,\n",
       "        153204.42891231,  449925.27817164,  297017.59796761,\n",
       "        152673.88107544,  303251.22295578,  292609.32130558,\n",
       "        309627.27455151,  199044.76435633,  219208.11596644,\n",
       "        239281.88186469,   98445.01417385,  143757.82612275,\n",
       "        160248.49632861,  142026.24055101,  178408.08425909,\n",
       "        189673.24580492,  393379.25548216,   95689.75722152,\n",
       "        126924.77743189,  137362.83157231,  136309.37328894,\n",
       "         69064.75854635,  208758.75305003,  292378.50333076,\n",
       "        126747.99241132,  265412.97842299,  161665.95260581,\n",
       "        105030.30150776,  134080.47077997,  135094.24966517,\n",
       "        131863.90965301,   77782.25392779,  137582.80533151,\n",
       "        201910.51854377,  230770.65008906,  368045.22517106,\n",
       "         78950.18488554,  120842.39109154,  235194.2759459 ,\n",
       "         91897.13870728,  149515.31938538,  163330.9623103 ,\n",
       "        201680.2412971 ,  177998.87806014,  170050.51398856,\n",
       "        192788.22298925,  347774.43505296,  194573.84174004,\n",
       "        146151.66507959,   87510.1518497 ,  151031.98821374,\n",
       "        285251.57720421,   96272.10859109,  351015.81046364,\n",
       "        242613.59284976,  222648.99783251,  132913.80098996,\n",
       "        126056.51737556,  213526.81069953,  115694.7647239 ,\n",
       "         77144.25425657,  114331.2961944 ,  206350.9683456 ,\n",
       "        113419.93443094,  312488.32376291,  109508.51185339,\n",
       "        239502.20310043,  371672.26236269,  115033.3172977 ,\n",
       "        150075.44648569,  130683.25544992,  115809.49219672,\n",
       "        289854.01104794,  104350.94825236,  193896.95756834,\n",
       "        129178.85290681,  133601.51848162,  229738.0124746 ,\n",
       "        140189.7437105 ,  163699.30926221,  147316.40649575,\n",
       "        346517.2069465 ,  209561.20681206,  510342.17574513])"
      ]
     },
     "execution_count": 66,
     "metadata": {},
     "output_type": "execute_result"
    }
   ],
   "source": [
    "## Need to log prices because the regression is predicting negative numbers\n",
    "# np.log(target)\n",
    "# np.exp(prediction)"
   ]
  },
  {
   "cell_type": "markdown",
   "metadata": {},
   "source": [
    "The MSEs look high for both the train and valid results. Based on the R^2, the variance is extremely high. The bias for training might be misleading because the R^2 metric gets higher for every additional feature added, even though it might not have any actual affect."
   ]
  },
  {
   "cell_type": "markdown",
   "metadata": {},
   "source": [
    "Need to make the model more stronger but at the same time make it less complex by reducing the number of dimensions."
   ]
  },
  {
   "cell_type": "markdown",
   "metadata": {},
   "source": [
    "## Scaling the numerical data"
   ]
  },
  {
   "cell_type": "code",
   "execution_count": 26,
   "metadata": {},
   "outputs": [],
   "source": [
    "# Imports\n",
    "from sklearn.preprocessing import MinMaxScaler\n",
    "\n",
    "# Instantiating (creating) scaling MinMaxScaler object\n",
    "scaler = MinMaxScaler()\n",
    "\n",
    "# Fitting and transforming the numerical features for X_train\n",
    "X_train[data_numeric] = scaler.fit_transform(X_train[data_numeric])\n",
    "\n",
    "# Transforming the numerical features for X_test\n",
    "X_valid[data_numeric] = scaler.transform(X_valid[data_numeric])"
   ]
  },
  {
   "cell_type": "code",
   "execution_count": 27,
   "metadata": {},
   "outputs": [
    {
     "name": "stdout",
     "output_type": "stream",
     "text": [
      "---MSE---\n",
      "Train MSE: 325693539.79452056\n",
      "Valid MSE: 1.1019705589196946e+30\n",
      "---R^2---\n",
      "Train MSE: 0.9435847436220683\n",
      "Valid MSE: -0.004055428174277509\n"
     ]
    }
   ],
   "source": [
    "reg = LinearRegression()\n",
    "reg.fit(X_train, y_train)\n",
    "\n",
    "train_preds = reg.predict(X_train)\n",
    "train_mse = mean_squared_error(train_preds, y_train)\n",
    "train_r2 = r2_score(train_preds, y_train)\n",
    "\n",
    "prediction = reg.predict(X_valid)\n",
    "valid_mse = mean_squared_error(prediction, y_valid)\n",
    "valid_r2 = r2_score(prediction, y_valid)\n",
    "\n",
    "# Printing train and valid mse\n",
    "print('---MSE---')\n",
    "print(f'Train MSE: {train_mse}')\n",
    "print(f'Valid MSE: {valid_mse}')\n",
    "print('---R^2---')\n",
    "print(f'Train R^2: {train_r2}')\n",
    "print(f'Valid R^2: {valid_r2}')"
   ]
  },
  {
   "cell_type": "code",
   "execution_count": 83,
   "metadata": {},
   "outputs": [],
   "source": [
    "def regression_report(model, X_train, y_train, X_valid, y_valid):\n",
    "    '''\n",
    "    Print out regression report\n",
    "    \n",
    "        ---MSE---\n",
    "        Train MSE: 325693539.79452056\n",
    "        Valid MSE: 1.1019705589196946e+30\n",
    "        ---R^2---\n",
    "        Train MSE: 0.9435847436220683\n",
    "        Valid MSE: -0.004055428174277509\n",
    "    \n",
    "    \n",
    "    Parameters\n",
    "    \n",
    "    \n",
    "    Return\n",
    "        None\n",
    "    '''\n",
    "    \n",
    "    print('Good Job, Elaheh!')\n"
   ]
  },
  {
   "cell_type": "markdown",
   "metadata": {},
   "source": [
    "# Validating the model"
   ]
  },
  {
   "cell_type": "markdown",
   "metadata": {},
   "source": [
    "# cross validation \n",
    "\n",
    "Splitting a dataset into training and testing set is an essential and basic task when comes to getting a machine learning model ready for training. To determine if our model is overfitting or not we need to test it on unseen data (Validation set).\n",
    "\n",
    "If a given model does not perform well on the validation set then it’s gonna perform worse when dealing with real live data. This notion makes Cross-Validation probably one of the most important concepts of machine learning which ensures the stability of our model.\n",
    "\n",
    "Cross-Validation is just a method that simply reserves a part of data from the dataset and uses it for testing the model(Validation set), and the remaining data other than the reserved one is used to train the model."
   ]
  },
  {
   "cell_type": "markdown",
   "metadata": {},
   "source": [
    "##Why we should use cross validation.\n",
    "\n",
    "* It helps us with model evaluation finally determining the quality of the model.\n",
    "* Crucial to determining if the model is generalizing well to data.\n",
    "* To check if the model is overfitting or underfitting.\n",
    "* Finally, it lets us choose the model which had the best performance.\n",
    "\n"
   ]
  },
  {
   "cell_type": "markdown",
   "metadata": {},
   "source": [
    "# Implementing the K-Fold Cross-Validation\n",
    "\n",
    "The dataset is split into ‘k’ number of subsets, k-1 subsets then are used to train the model and the last subset is kept as a validation set to test the model. Then the score of the model on each fold is averaged to evaluate the performance of the model."
   ]
  },
  {
   "cell_type": "code",
   "execution_count": 75,
   "metadata": {},
   "outputs": [
    {
     "name": "stdout",
     "output_type": "stream",
     "text": [
      "MSE for each fold: [173573.17786055486, 26238.627210668652, 50992.490293935945, 23081.17744412856, 20988.70599109682]\n",
      "Avg MSE : 58974.8358\n",
      "Standard Deviation: 58308.5894\n"
     ]
    }
   ],
   "source": [
    "#Importing required libraries\n",
    "import pandas as pd\n",
    "from sklearn.model_selection import KFold \n",
    "from sklearn.metrics import accuracy_score\n",
    " \n",
    "#seting up the dataset\n",
    "X = dummy_data\n",
    "y = np.log(target)\n",
    " \n",
    "#Implementing cross validation\n",
    "k = 5\n",
    "kf = KFold(n_splits=k, shuffle=True, random_state=0)\n",
    "\n",
    "RMSE_score = []\n",
    "for train_index , test_index in kf.split(X):\n",
    "    X_train , X_test = X.iloc[train_index,:], X.iloc[test_index,:]\n",
    "    y_train , y_test = y[train_index] , y[test_index]\n",
    "\n",
    "    model = LinearRegression()\n",
    "    model.fit(X_train, y_train)\n",
    "    pred_values = model.predict(X_test)\n",
    "     \n",
    "    RMSE = np.sqrt(mean_squared_error(np.exp(pred_values) , np.exp(y_test)))\n",
    "    RMSE_score.append(RMSE)\n",
    "    \n",
    "print(f'MSE for each fold: {RMSE_score}')\n",
    "print(f'Avg MSE : {np.mean(RMSE_score):.4f}')\n",
    "print(f'Standard Deviation: {np.std(RMSE_score):.4f}')"
   ]
  },
  {
   "cell_type": "code",
   "execution_count": 76,
   "metadata": {},
   "outputs": [
    {
     "data": {
      "text/plain": [
       "count      1460.000000\n",
       "mean     180921.195890\n",
       "std       79442.502883\n",
       "min       34900.000000\n",
       "25%      129975.000000\n",
       "50%      163000.000000\n",
       "75%      214000.000000\n",
       "max      755000.000000\n",
       "Name: SalePrice, dtype: float64"
      ]
     },
     "execution_count": 76,
     "metadata": {},
     "output_type": "execute_result"
    }
   ],
   "source": [
    "target.describe()"
   ]
  },
  {
   "cell_type": "markdown",
   "metadata": {},
   "source": [
    "# Stepwise regression for feature selection"
   ]
  },
  {
   "cell_type": "code",
   "execution_count": null,
   "metadata": {
    "scrolled": false
   },
   "outputs": [],
   "source": [
    "def train_model(variables): \n",
    "    if len(variables) == 0:\n",
    "        return None\n",
    "    model = LinearRegression()\n",
    "    model.fit(X_train[variables], y_train)\n",
    "    return model\n",
    "\n",
    "def score_model(model, variables): \n",
    "    if len(variables) == 0:\n",
    "        return metric.AIC_score(target, [target.mean()] * len(target), model, df=1)\n",
    "    return metric.AIC_score(y_train, model.predict(X_train[variables]), model)\n",
    "\n",
    "best_model, best_variables = stepwise_selection(X_train.columns, train_model,\n",
    "                                                score_model, verbose=True)\n",
    "\n",
    "print(f'Intercept: {best_model.intercept_:.3f}')\n",
    "print('Coefficients:')\n",
    "for name, coef in zip(best_variables, best_model.coef_):\n",
    "    print(f' {name}: {coef}')"
   ]
  },
  {
   "cell_type": "code",
   "execution_count": null,
   "metadata": {},
   "outputs": [],
   "source": [
    "len(best_variables)"
   ]
  },
  {
   "cell_type": "code",
   "execution_count": null,
   "metadata": {},
   "outputs": [],
   "source": [
    "X_train[best_variables]"
   ]
  },
  {
   "cell_type": "code",
   "execution_count": null,
   "metadata": {},
   "outputs": [],
   "source": [
    "best_model"
   ]
  },
  {
   "cell_type": "code",
   "execution_count": null,
   "metadata": {},
   "outputs": [],
   "source": [
    "best_model.fit(X_train, y_train)\n",
    "\n",
    "train_preds = best_model.predict(X_train)\n",
    "train_mse = mean_squared_error(train_preds, y_train)\n",
    "train_r2 = r2_score(train_preds, y_train)\n",
    "\n",
    "prediction = best_model.predict(X_valid)\n",
    "valid_mse = mean_squared_error(prediction, y_valid)\n",
    "valid_r2 = r2_score(prediction, y_valid)\n",
    "\n",
    "# Printing train and valid mse\n",
    "print('---MSE---')\n",
    "print(f'Train MSE: {train_mse}')\n",
    "print(f'Valid MSE: {valid_mse}')\n",
    "print('---R^2---')\n",
    "print(f'Train MSE: {train_r2}')\n",
    "print(f'Valid MSE: {valid_r2}')"
   ]
  },
  {
   "cell_type": "markdown",
   "metadata": {},
   "source": [
    "Ridge Regression\n",
    "Lasso Regression"
   ]
  },
  {
   "cell_type": "code",
   "execution_count": 84,
   "metadata": {},
   "outputs": [
    {
     "name": "stdout",
     "output_type": "stream",
     "text": [
      "Good Job, ELaheh!\n"
     ]
    }
   ],
   "source": [
    "regression_report()"
   ]
  },
  {
   "cell_type": "code",
   "execution_count": null,
   "metadata": {},
   "outputs": [],
   "source": []
  }
 ],
 "metadata": {
  "kernelspec": {
   "display_name": "Python 3 (ipykernel)",
   "language": "python",
   "name": "python3"
  },
  "language_info": {
   "codemirror_mode": {
    "name": "ipython",
    "version": 3
   },
   "file_extension": ".py",
   "mimetype": "text/x-python",
   "name": "python",
   "nbconvert_exporter": "python",
   "pygments_lexer": "ipython3",
   "version": "3.9.8"
  }
 },
 "nbformat": 4,
 "nbformat_minor": 4
}
